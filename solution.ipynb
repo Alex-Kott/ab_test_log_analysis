{
 "cells": [
  {
   "cell_type": "code",
   "execution_count": 3,
   "metadata": {},
   "outputs": [
    {
     "name": "stdout",
     "output_type": "stream",
     "text": [
      "defaultdict(<class 'int'>, {'c': 1663, 'b': 1456, 'a': 1622})\n"
     ]
    }
   ],
   "source": [
    "from ast import literal_eval\n",
    "from collections import defaultdict\n",
    "\n",
    "import pandas as pd\n",
    "\n",
    "\n",
    "def main(file_name: str):\n",
    "    df = pd.read_csv(file_name, index_col=0, header=0)\n",
    "\n",
    "    rates = defaultdict(int)\n",
    "    for i, row in df.iterrows():\n",
    "        data = literal_eval(row['query_last_values'])\n",
    "\n",
    "        group = data['experimentValue']\n",
    "        if data['action'] == 'publications_checkout' and data['hasRenewalVP'] == 'true':\n",
    "            rates[group] += 1\n",
    "\n",
    "    print(rates)\n",
    "\n",
    "\n",
    "if __name__ == \"__main__\":\n",
    "    main('for_test.csv')\n"
   ]
  },
  {
   "cell_type": "code",
   "execution_count": null,
   "metadata": {},
   "outputs": [],
   "source": []
  },
  {
   "cell_type": "code",
   "execution_count": null,
   "metadata": {},
   "outputs": [],
   "source": []
  }
 ],
 "metadata": {
  "kernelspec": {
   "display_name": "Python 3",
   "language": "python",
   "name": "python3"
  },
  "language_info": {
   "codemirror_mode": {
    "name": "ipython",
    "version": 3
   },
   "file_extension": ".py",
   "mimetype": "text/x-python",
   "name": "python",
   "nbconvert_exporter": "python",
   "pygments_lexer": "ipython3",
   "version": "3.7.3"
  }
 },
 "nbformat": 4,
 "nbformat_minor": 2
}
